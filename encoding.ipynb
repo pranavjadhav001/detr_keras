{
 "cells": [
  {
   "cell_type": "code",
   "execution_count": 5,
   "id": "09e616bf",
   "metadata": {},
   "outputs": [],
   "source": [
    "import tensorflow as tf\n",
    "import numpy as np"
   ]
  },
  {
   "cell_type": "code",
   "execution_count": 3,
   "id": "de7f6158",
   "metadata": {},
   "outputs": [],
   "source": [
    "class PositionEmbeddingSine(tf.keras.Model):\n",
    "    def __init__(self, num_pos_features=64, temperature=10000,\n",
    "                 normalize=False, scale=None, eps=1e-6, **kwargs):\n",
    "        # These are the default parameters used in the original project\n",
    "        super().__init__(**kwargs)\n",
    "\n",
    "        self.num_pos_features = num_pos_features\n",
    "        self.temperature = temperature\n",
    "        self.normalize = normalize\n",
    "        if scale is not None and normalize is False:\n",
    "            raise ValueError('normalize should be True if scale is passed')\n",
    "        if scale is None:\n",
    "            scale = 2 * np.pi\n",
    "        self.scale = scale\n",
    "        self.eps = eps\n",
    "\n",
    "    def call(self, mask):\n",
    "        not_mask = tf.cast(~mask, tf.float32)\n",
    "        y_embed = tf.math.cumsum(not_mask, axis=1)\n",
    "        x_embed = tf.math.cumsum(not_mask, axis=2)\n",
    "\n",
    "        if self.normalize:\n",
    "            y_embed = y_embed / (y_embed[:, -1:, :] + self.eps) * self.scale\n",
    "            x_embed = x_embed / (x_embed[:, :, -1:] + self.eps) * self.scale\n",
    "\n",
    "        dim_t = tf.range(self.num_pos_features, dtype=tf.float32)\n",
    "        dim_t = self.temperature ** (2 * (dim_t // 2) / self.num_pos_features)\n",
    "\n",
    "        pos_x = x_embed[..., tf.newaxis] / dim_t\n",
    "        pos_y = y_embed[..., tf.newaxis] / dim_t\n",
    "\n",
    "        pos_x = tf.stack([tf.math.sin(pos_x[..., 0::2]),\n",
    "                          tf.math.cos(pos_x[..., 1::2])], axis=4)\n",
    "\n",
    "        pos_y = tf.stack([tf.math.sin(pos_y[..., 0::2]),\n",
    "                          tf.math.cos(pos_y[..., 1::2])], axis=4)\n",
    "\n",
    "        shape = [tf.shape(pos_x)[i] for i in range(3)] + [-1]\n",
    "        pos_x = tf.reshape(pos_x, shape)\n",
    "        pos_y = tf.reshape(pos_y, shape)\n",
    "\n",
    "        pos_emb = tf.concat([pos_y, pos_x], axis=3)\n",
    "        return pos_emb"
   ]
  },
  {
   "cell_type": "code",
   "execution_count": 6,
   "id": "625dca4d",
   "metadata": {},
   "outputs": [],
   "source": [
    "pos_encoder = PositionEmbeddingSine(\n",
    "            num_pos_features=128, normalize=True)"
   ]
  },
  {
   "cell_type": "code",
   "execution_count": 8,
   "id": "1acf7f1e",
   "metadata": {},
   "outputs": [
    {
     "ename": "TypeError",
     "evalue": "call() missing 1 required positional argument: 'mask'",
     "output_type": "error",
     "traceback": [
      "\u001b[1;31m---------------------------------------------------------------------------\u001b[0m",
      "\u001b[1;31mTypeError\u001b[0m                                 Traceback (most recent call last)",
      "\u001b[1;32m<ipython-input-8-8d5a6647903e>\u001b[0m in \u001b[0;36m<module>\u001b[1;34m\u001b[0m\n\u001b[1;32m----> 1\u001b[1;33m \u001b[0mpos_encoder\u001b[0m\u001b[1;33m.\u001b[0m\u001b[0mcall\u001b[0m\u001b[1;33m(\u001b[0m\u001b[1;33m)\u001b[0m\u001b[1;33m\u001b[0m\u001b[0m\n\u001b[0m",
      "\u001b[1;31mTypeError\u001b[0m: call() missing 1 required positional argument: 'mask'"
     ]
    }
   ],
   "source": [
    "pos_encoder.call()"
   ]
  },
  {
   "cell_type": "code",
   "execution_count": null,
   "id": "a36eee30",
   "metadata": {},
   "outputs": [],
   "source": []
  }
 ],
 "metadata": {
  "kernelspec": {
   "display_name": "Python 3",
   "language": "python",
   "name": "python3"
  },
  "language_info": {
   "codemirror_mode": {
    "name": "ipython",
    "version": 3
   },
   "file_extension": ".py",
   "mimetype": "text/x-python",
   "name": "python",
   "nbconvert_exporter": "python",
   "pygments_lexer": "ipython3",
   "version": "3.6.1"
  }
 },
 "nbformat": 4,
 "nbformat_minor": 5
}
